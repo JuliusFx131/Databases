{
 "cells": [
  {
   "attachments": {},
   "cell_type": "markdown",
   "id": "540c5ece",
   "metadata": {},
   "source": [
    "# How to Create and Manipulate SQL Databases with Python"
   ]
  },
  {
   "attachments": {
    "image-4.png": {
     "image/png": "[encoded data removed]"
    }
   },
   "cell_type": "markdown",
   "id": "1254daa5",
   "metadata": {},
   "source": [
    "Entity relationship Diagram (ERD) for my project :\n",
    "![image-4.png](attachment:image-4.png)"
   ]
  },
  {
   "cell_type": "markdown",
   "id": "4eaf7a08",
   "metadata": {},
   "source": [
    "## 1. Import Required Packages"
   ]
  },
  {
   "cell_type": "code",
   "execution_count": 1,
   "id": "956d317d",
   "metadata": {},
   "outputs": [],
   "source": [
    "import pandas as pd\n",
    "# !pip install mysql-connector-python\n",
    "import mysql.connector\n",
    "from mysql.connector import Error"
   ]
  },
  {
   "cell_type": "markdown",
   "id": "a4aa008c",
   "metadata": {},
   "source": [
    "## 2. Connect to Server and Create Database"
   ]
  },
  {
   "cell_type": "markdown",
   "id": "7b8f4d4a",
   "metadata": {},
   "source": [
    "### 2.1 Connect to Server"
   ]
  },
  {
   "cell_type": "code",
   "execution_count": 2,
   "id": "c41fa519",
   "metadata": {},
   "outputs": [
    {
     "name": "stdout",
     "output_type": "stream",
     "text": [
      "MySQL Database Connection Successful\n"
     ]
    }
   ],
   "source": [
    "def create_server_connection(host_name,user_name,password):\n",
    "    connection=None\n",
    "    try:\n",
    "        connection=mysql.connector.connect(\n",
    "        host=host_name,\n",
    "        user=user_name,\n",
    "        password=password)\n",
    "        print(\"MySQL Database Connection Successful\")\n",
    "        \n",
    "    except Error as err:\n",
    "        print(F\"Error: '{err}'\")\n",
    "        \n",
    "    return connection\n",
    "\n",
    "password = \"Godsfavour@2015\" # 1980Mighty*\n",
    "connection = create_server_connection(\"localhost\", \"root\", password)"
   ]
  },
  {
   "cell_type": "markdown",
   "id": "626c4e62",
   "metadata": {},
   "source": [
    "### 2.2 Create New Database"
   ]
  },
  {
   "cell_type": "code",
   "execution_count": 3,
   "id": "6eb97276",
   "metadata": {},
   "outputs": [
    {
     "name": "stdout",
     "output_type": "stream",
     "text": [
      "Database Successfully Created\n"
     ]
    }
   ],
   "source": [
    "def create_database(connection,query):\n",
    "    cursor=connection.cursor()\n",
    "    try:\n",
    "        cursor.execute(query)\n",
    "        print(\"Database Successfully Created\")\n",
    "    except Error as err:\n",
    "        print(f\"Error: '{err}'\")\n",
    "        \n",
    "database = \"CMC\" \n",
    "create_database_query=\"CREATE DATABASE CMC\"    \n",
    "create_database(connection,create_database_query)"
   ]
  },
  {
   "cell_type": "markdown",
   "id": "10c7498d",
   "metadata": {},
   "source": [
    "### 2.3 Create Database Connection Function"
   ]
  },
  {
   "cell_type": "code",
   "execution_count": 4,
   "id": "666fa43a",
   "metadata": {},
   "outputs": [],
   "source": [
    "def create_database_connection(host_name,user_name,password,database_name):\n",
    "    connection=None\n",
    "    try:\n",
    "        connection=mysql.connector.connect(\n",
    "        host=host_name,\n",
    "        user=user_name,\n",
    "        password=password,\n",
    "        database=database)\n",
    "        print(\"Connection to database successful!\")\n",
    "    except Error as err:\n",
    "        print(f\"Error: '{err}'\")\n",
    "    return connection"
   ]
  },
  {
   "cell_type": "markdown",
   "id": "ff8657e6",
   "metadata": {},
   "source": [
    "### 2.4 Define Query Execution Function"
   ]
  },
  {
   "cell_type": "code",
   "execution_count": 5,
   "id": "1fbb6c2d",
   "metadata": {},
   "outputs": [],
   "source": [
    "def execute_query(connection,query):\n",
    "    cursor=connection.cursor()\n",
    "    try:\n",
    "        cursor.execute(query)\n",
    "        connection.commit()\n",
    "        print(\"Query Successful\")    \n",
    "    except Error as err:\n",
    "        print(f\"Error: '{err}'\")        "
   ]
  },
  {
   "cell_type": "markdown",
   "id": "760ccc19",
   "metadata": {},
   "source": [
    "## 3. Create Tables"
   ]
  },
  {
   "cell_type": "markdown",
   "id": "783a5b7e",
   "metadata": {},
   "source": [
    "### 3.1 Create Customer Buyer Table"
   ]
  },
  {
   "cell_type": "code",
   "execution_count": 6,
   "id": "a799a2cb",
   "metadata": {},
   "outputs": [
    {
     "name": "stdout",
     "output_type": "stream",
     "text": [
      "Connection to database successful!\n",
      "Query Successful\n"
     ]
    }
   ],
   "source": [
    "# Create Customer Table\n",
    "create_buyer_table= \"\"\"\n",
    "\n",
    "                        CREATE TABLE tblbuyer(\n",
    "                        Buyer_Number VARCHAR(50) PRIMARY KEY,\n",
    "                        Buyer_Name VARCHAR(50) NOT NULL,\n",
    "                        Buyer_Town VARCHAR(50),\n",
    "                        Buyer_Address VARCHAR(50) NOT NULL);\n",
    "\n",
    "\"\"\"\n",
    "\n",
    "connection=create_database_connection(\"localhost\",\"root\",password,database)\n",
    "execute_query(connection,create_buyer_table)"
   ]
  },
  {
   "cell_type": "markdown",
   "id": "b40589a9",
   "metadata": {},
   "source": [
    "### 3.2 Create Customer Vehicle Table"
   ]
  },
  {
   "cell_type": "code",
   "execution_count": 7,
   "id": "64ff7783",
   "metadata": {},
   "outputs": [
    {
     "name": "stdout",
     "output_type": "stream",
     "text": [
      "Connection to database successful!\n",
      "Query Successful\n"
     ]
    }
   ],
   "source": [
    "# Create Customer Table\n",
    "create_vehicle_table= \"\"\"\n",
    "\n",
    "                        CREATE TABLE tblvehicle(\n",
    "                        Vehicle_Reg_NO VARCHAR(50) PRIMARY KEY,\n",
    "                        Vehicle_Type VARCHAR(50) ,\n",
    "                        Vehicle_Make VARCHAR(50) NOT NULL,\n",
    "                        Vehicle_Price INT(50) NOT NULL,\n",
    "                        Buyer_Number VARCHAR(50),\n",
    "                        Amount_Paid DECIMAL(50) NOT NULL);\n",
    "\n",
    "\"\"\"\n",
    "\n",
    "connection=create_database_connection(\"localhost\",\"root\",password,database)\n",
    "execute_query(connection,create_vehicle_table)"
   ]
  },
  {
   "attachments": {
    "image-2.png": {
     "image/png": "[encoded data removed]"
    }
   },
   "cell_type": "markdown",
   "id": "0046004a",
   "metadata": {},
   "source": [
    "![image-2.png](attachment:image-2.png)"
   ]
  },
  {
   "cell_type": "markdown",
   "id": "38930174",
   "metadata": {},
   "source": [
    "# 3 Define the Relationships"
   ]
  },
  {
   "cell_type": "code",
   "execution_count": 8,
   "id": "69898b3a",
   "metadata": {},
   "outputs": [
    {
     "name": "stdout",
     "output_type": "stream",
     "text": [
      "Connection to database successful!\n",
      "Query Successful\n"
     ]
    }
   ],
   "source": [
    "alter_vehicles=\"\"\"\n",
    "ALTER TABLE tblvehicle\n",
    "ADD CONSTRAINT foreignkey_Buyer_Number\n",
    "FOREIGN KEY (Buyer_Number)\n",
    "REFERENCES tblbuyer(Buyer_Number)\n",
    "ON DELETE SET NULL;\n",
    "\"\"\"\n",
    "\n",
    "connection = create_database_connection(\"localhost\", \"root\", password, database)\n",
    "execute_query(connection, alter_vehicles)"
   ]
  },
  {
   "cell_type": "markdown",
   "id": "e6dcda29",
   "metadata": {},
   "source": [
    "## 4. Populating the Tables"
   ]
  },
  {
   "cell_type": "markdown",
   "id": "d260e5dc",
   "metadata": {},
   "source": [
    "### 4.1 Populate Buyers Table"
   ]
  },
  {
   "cell_type": "code",
   "execution_count": 9,
   "id": "c458f183",
   "metadata": {},
   "outputs": [
    {
     "name": "stdout",
     "output_type": "stream",
     "text": [
      "Connection to database successful!\n",
      "Query Successful\n"
     ]
    }
   ],
   "source": [
    "pop_buyers=\"\"\"\n",
    "INSERT INTO tblbuyer VALUES\n",
    "('B001', 'peter','Nakuru','254'),\n",
    "('B002', 'john','Eldoret','678'),\n",
    "('B003', 'Ken','Nairobi','963'),\n",
    "('B004', 'Roy','Nakuru','147'),\n",
    "('B005', 'Glen','Bungoma','456'),\n",
    "('B006', 'Phillip','Webuye','789'),\n",
    "('B007', 'Ken','Kisumu','159'),\n",
    "('B008', 'Jane','Kisumu','357');\n",
    "\"\"\"\n",
    "\n",
    "connection = create_database_connection(\"localhost\", \"root\", password, database)\n",
    "execute_query(connection, pop_buyers)"
   ]
  },
  {
   "attachments": {
    "image-2.png": {
     "image/png": "[encoded data removed]"
    }
   },
   "cell_type": "markdown",
   "id": "7937fa06",
   "metadata": {},
   "source": [
    "            Check  mysql terminal\n",
    "![image-2.png](attachment:image-2.png)"
   ]
  },
  {
   "cell_type": "markdown",
   "id": "a5ef4b44",
   "metadata": {},
   "source": [
    "### 4.2 Populate the Vehicle Table"
   ]
  },
  {
   "cell_type": "code",
   "execution_count": 10,
   "id": "e956ddfb",
   "metadata": {},
   "outputs": [
    {
     "name": "stdout",
     "output_type": "stream",
     "text": [
      "Connection to database successful!\n",
      "Query Successful\n"
     ]
    }
   ],
   "source": [
    "pop_vehicles=\"\"\"\n",
    "                    INSERT INTO tblvehicle \n",
    "                    (Vehicle_Reg_NO, Vehicle_Type, Vehicle_Make, Vehicle_Price, Buyer_Number, Amount_Paid) VALUES \n",
    "                    ('KAJ 001', 'Matatu', 'Nissan', 1200000, 'B001', 800000),\n",
    "                    ('KAJ 002', 'Bus', 'Mazda', 2400000, 'B002', 2000000),\n",
    "                    ('KAJ 003', 'Saloon', 'Toyota', 800000, 'B003', 600000),\n",
    "                    ('KAJ 004', 'Pick up', 'Peugeot', 1000000, 'B004', 700000),\n",
    "                    ('KAJ 005', 'Lorry', 'Isuzu', 3000000, 'B005', 2000000),\n",
    "                    ('KAJ 006', 'Pick up', 'Toyota', 1800000, 'B006', 1600000),\n",
    "                    ('KAJ 007', 'Bus', 'Scania', 7500000, 'B002', 7500000),\n",
    "                    ('KAJ 008', 'Matatu', 'Toyota', 1300000, 'B003', 1300000),\n",
    "                    ('KAJ 009', 'Saloon', 'Nissan', 900000, 'B007', 900000),\n",
    "                    ('KAJ 010', 'Pick up', 'Isuzu', 1500000, 'B001', 1200000),\n",
    "                    ('KAJ 012', 'Saloon', 'Peugeot', 700000, 'B008', 700000),\n",
    "                    ('KAJ 013', 'Bus', 'Isuzu', 10000000, 'B006', 9500000),\n",
    "                    ('KAJ 014', 'Matatu', 'Nissan', 2700000, 'B004', 2700000);\n",
    "\n",
    "\"\"\"\n",
    "\n",
    "connection = create_database_connection(\"localhost\", \"root\", password, database)\n",
    "execute_query(connection, pop_vehicles)"
   ]
  },
  {
   "attachments": {
    "image-3.png": {
     "image/png": "[encoded data removed]"
    }
   },
   "cell_type": "markdown",
   "id": "9c7ec359",
   "metadata": {},
   "source": [
    "                Check  mysql terminal\n",
    "![image-3.png](attachment:image-3.png)"
   ]
  },
  {
   "cell_type": "markdown",
   "id": "29b906dc",
   "metadata": {},
   "source": [
    "## 5. Reading Data"
   ]
  },
  {
   "cell_type": "markdown",
   "id": "e0c35fa2",
   "metadata": {},
   "source": [
    "### 5.1 Define Data Reading Function"
   ]
  },
  {
   "cell_type": "code",
   "execution_count": 11,
   "id": "f62e763e",
   "metadata": {},
   "outputs": [],
   "source": [
    "def read_query(connection,query):\n",
    "    cursor=connection.cursor()\n",
    "    result=None\n",
    "    try:\n",
    "        cursor.execute(query)\n",
    "        result=cursor.fetchall()\n",
    "        return result\n",
    "    except Error as err:\n",
    "        print(f\"Error:'{err}'\")"
   ]
  },
  {
   "cell_type": "markdown",
   "id": "0645996c",
   "metadata": {},
   "source": [
    "### 5.2 Create a query"
   ]
  },
  {
   "cell_type": "code",
   "execution_count": 12,
   "id": "e9ad13fe",
   "metadata": {},
   "outputs": [
    {
     "name": "stdout",
     "output_type": "stream",
     "text": [
      "Connection to database successful!\n",
      "('KAJ 001', 'Matatu', 'Nissan', 1200000, 'B001', Decimal('800000'))\n",
      "('KAJ 002', 'Bus', 'Mazda', 2400000, 'B002', Decimal('2000000'))\n",
      "('KAJ 003', 'Saloon', 'Toyota', 800000, 'B003', Decimal('600000'))\n",
      "('KAJ 004', 'Pick up', 'Peugeot', 1000000, 'B004', Decimal('700000'))\n",
      "('KAJ 005', 'Lorry', 'Isuzu', 3000000, 'B005', Decimal('2000000'))\n",
      "('KAJ 006', 'Pick up', 'Toyota', 1800000, 'B006', Decimal('1600000'))\n",
      "('KAJ 007', 'Bus', 'Scania', 7500000, 'B002', Decimal('7500000'))\n",
      "('KAJ 008', 'Matatu', 'Toyota', 1300000, 'B003', Decimal('1300000'))\n",
      "('KAJ 009', 'Saloon', 'Nissan', 900000, 'B007', Decimal('900000'))\n",
      "('KAJ 010', 'Pick up', 'Isuzu', 1500000, 'B001', Decimal('1200000'))\n",
      "('KAJ 012', 'Saloon', 'Peugeot', 700000, 'B008', Decimal('700000'))\n",
      "('KAJ 013', 'Bus', 'Isuzu', 10000000, 'B006', Decimal('9500000'))\n",
      "('KAJ 014', 'Matatu', 'Nissan', 2700000, 'B004', Decimal('2700000'))\n"
     ]
    }
   ],
   "source": [
    "query_one=\"\"\"\n",
    "SELECT * FROM tblvehicle;\n",
    "\"\"\"\n",
    "\n",
    "connection = create_database_connection(\"localhost\", \"root\", password, database)\n",
    "results=read_query(connection,query_one)\n",
    "\n",
    "for result in results:\n",
    "    print(result)"
   ]
  },
  {
   "cell_type": "markdown",
   "id": "6ef4f56d",
   "metadata": {},
   "source": [
    "### 5.3 Create a list of list from the data extracted from mysql"
   ]
  },
  {
   "cell_type": "code",
   "execution_count": 13,
   "id": "802fddc8",
   "metadata": {},
   "outputs": [
    {
     "data": {
      "text/plain": [
       "[['KAJ 001', 'Matatu', 'Nissan', 1200000, 'B001', Decimal('800000')],\n",
       " ['KAJ 002', 'Bus', 'Mazda', 2400000, 'B002', Decimal('2000000')],\n",
       " ['KAJ 003', 'Saloon', 'Toyota', 800000, 'B003', Decimal('600000')],\n",
       " ['KAJ 004', 'Pick up', 'Peugeot', 1000000, 'B004', Decimal('700000')],\n",
       " ['KAJ 005', 'Lorry', 'Isuzu', 3000000, 'B005', Decimal('2000000')],\n",
       " ['KAJ 006', 'Pick up', 'Toyota', 1800000, 'B006', Decimal('1600000')],\n",
       " ['KAJ 007', 'Bus', 'Scania', 7500000, 'B002', Decimal('7500000')],\n",
       " ['KAJ 008', 'Matatu', 'Toyota', 1300000, 'B003', Decimal('1300000')],\n",
       " ['KAJ 009', 'Saloon', 'Nissan', 900000, 'B007', Decimal('900000')],\n",
       " ['KAJ 010', 'Pick up', 'Isuzu', 1500000, 'B001', Decimal('1200000')],\n",
       " ['KAJ 012', 'Saloon', 'Peugeot', 700000, 'B008', Decimal('700000')],\n",
       " ['KAJ 013', 'Bus', 'Isuzu', 10000000, 'B006', Decimal('9500000')],\n",
       " ['KAJ 014', 'Matatu', 'Nissan', 2700000, 'B004', Decimal('2700000')]]"
      ]
     },
     "execution_count": 13,
     "metadata": {},
     "output_type": "execute_result"
    }
   ],
   "source": [
    "from_database=[]\n",
    "for result in results:\n",
    "    result=list(result)\n",
    "    from_database.append(result)\n",
    "from_database"
   ]
  },
  {
   "cell_type": "markdown",
   "id": "23684043",
   "metadata": {},
   "source": [
    "### 5.4 Create a dataframe from the data extracted"
   ]
  },
  {
   "cell_type": "code",
   "execution_count": 14,
   "id": "c3c6878d",
   "metadata": {},
   "outputs": [
    {
     "data": {
      "text/html": [
       "<div>\n",
       "<style scoped>\n",
       "    .dataframe tbody tr th:only-of-type {\n",
       "        vertical-align: middle;\n",
       "    }\n",
       "\n",
       "    .dataframe tbody tr th {\n",
       "        vertical-align: top;\n",
       "    }\n",
       "\n",
       "    .dataframe thead th {\n",
       "        text-align: right;\n",
       "    }\n",
       "</style>\n",
       "<table border=\"1\" class=\"dataframe\">\n",
       "  <thead>\n",
       "    <tr style=\"text-align: right;\">\n",
       "      <th></th>\n",
       "      <th>Vehicle_Reg_NO</th>\n",
       "      <th>Vehicle_Type</th>\n",
       "      <th>Vehicle_Make</th>\n",
       "      <th>Vehicle_Price</th>\n",
       "      <th>Buyer_Number</th>\n",
       "      <th>Amount_Paid</th>\n",
       "    </tr>\n",
       "  </thead>\n",
       "  <tbody>\n",
       "    <tr>\n",
       "      <th>0</th>\n",
       "      <td>KAJ 001</td>\n",
       "      <td>Matatu</td>\n",
       "      <td>Nissan</td>\n",
       "      <td>1200000</td>\n",
       "      <td>B001</td>\n",
       "      <td>800000</td>\n",
       "    </tr>\n",
       "    <tr>\n",
       "      <th>1</th>\n",
       "      <td>KAJ 002</td>\n",
       "      <td>Bus</td>\n",
       "      <td>Mazda</td>\n",
       "      <td>2400000</td>\n",
       "      <td>B002</td>\n",
       "      <td>2000000</td>\n",
       "    </tr>\n",
       "    <tr>\n",
       "      <th>2</th>\n",
       "      <td>KAJ 003</td>\n",
       "      <td>Saloon</td>\n",
       "      <td>Toyota</td>\n",
       "      <td>800000</td>\n",
       "      <td>B003</td>\n",
       "      <td>600000</td>\n",
       "    </tr>\n",
       "    <tr>\n",
       "      <th>3</th>\n",
       "      <td>KAJ 004</td>\n",
       "      <td>Pick up</td>\n",
       "      <td>Peugeot</td>\n",
       "      <td>1000000</td>\n",
       "      <td>B004</td>\n",
       "      <td>700000</td>\n",
       "    </tr>\n",
       "    <tr>\n",
       "      <th>4</th>\n",
       "      <td>KAJ 005</td>\n",
       "      <td>Lorry</td>\n",
       "      <td>Isuzu</td>\n",
       "      <td>3000000</td>\n",
       "      <td>B005</td>\n",
       "      <td>2000000</td>\n",
       "    </tr>\n",
       "    <tr>\n",
       "      <th>5</th>\n",
       "      <td>KAJ 006</td>\n",
       "      <td>Pick up</td>\n",
       "      <td>Toyota</td>\n",
       "      <td>1800000</td>\n",
       "      <td>B006</td>\n",
       "      <td>1600000</td>\n",
       "    </tr>\n",
       "    <tr>\n",
       "      <th>6</th>\n",
       "      <td>KAJ 007</td>\n",
       "      <td>Bus</td>\n",
       "      <td>Scania</td>\n",
       "      <td>7500000</td>\n",
       "      <td>B002</td>\n",
       "      <td>7500000</td>\n",
       "    </tr>\n",
       "    <tr>\n",
       "      <th>7</th>\n",
       "      <td>KAJ 008</td>\n",
       "      <td>Matatu</td>\n",
       "      <td>Toyota</td>\n",
       "      <td>1300000</td>\n",
       "      <td>B003</td>\n",
       "      <td>1300000</td>\n",
       "    </tr>\n",
       "    <tr>\n",
       "      <th>8</th>\n",
       "      <td>KAJ 009</td>\n",
       "      <td>Saloon</td>\n",
       "      <td>Nissan</td>\n",
       "      <td>900000</td>\n",
       "      <td>B007</td>\n",
       "      <td>900000</td>\n",
       "    </tr>\n",
       "    <tr>\n",
       "      <th>9</th>\n",
       "      <td>KAJ 010</td>\n",
       "      <td>Pick up</td>\n",
       "      <td>Isuzu</td>\n",
       "      <td>1500000</td>\n",
       "      <td>B001</td>\n",
       "      <td>1200000</td>\n",
       "    </tr>\n",
       "    <tr>\n",
       "      <th>10</th>\n",
       "      <td>KAJ 012</td>\n",
       "      <td>Saloon</td>\n",
       "      <td>Peugeot</td>\n",
       "      <td>700000</td>\n",
       "      <td>B008</td>\n",
       "      <td>700000</td>\n",
       "    </tr>\n",
       "    <tr>\n",
       "      <th>11</th>\n",
       "      <td>KAJ 013</td>\n",
       "      <td>Bus</td>\n",
       "      <td>Isuzu</td>\n",
       "      <td>10000000</td>\n",
       "      <td>B006</td>\n",
       "      <td>9500000</td>\n",
       "    </tr>\n",
       "    <tr>\n",
       "      <th>12</th>\n",
       "      <td>KAJ 014</td>\n",
       "      <td>Matatu</td>\n",
       "      <td>Nissan</td>\n",
       "      <td>2700000</td>\n",
       "      <td>B004</td>\n",
       "      <td>2700000</td>\n",
       "    </tr>\n",
       "  </tbody>\n",
       "</table>\n",
       "</div>"
      ],
      "text/plain": [
       "   Vehicle_Reg_NO Vehicle_Type Vehicle_Make  Vehicle_Price Buyer_Number  \\\n",
       "0         KAJ 001       Matatu       Nissan        1200000         B001   \n",
       "1         KAJ 002          Bus        Mazda        2400000         B002   \n",
       "2         KAJ 003       Saloon       Toyota         800000         B003   \n",
       "3         KAJ 004      Pick up      Peugeot        1000000         B004   \n",
       "4         KAJ 005        Lorry        Isuzu        3000000         B005   \n",
       "5         KAJ 006      Pick up       Toyota        1800000         B006   \n",
       "6         KAJ 007          Bus       Scania        7500000         B002   \n",
       "7         KAJ 008       Matatu       Toyota        1300000         B003   \n",
       "8         KAJ 009       Saloon       Nissan         900000         B007   \n",
       "9         KAJ 010      Pick up        Isuzu        1500000         B001   \n",
       "10        KAJ 012       Saloon      Peugeot         700000         B008   \n",
       "11        KAJ 013          Bus        Isuzu       10000000         B006   \n",
       "12        KAJ 014       Matatu       Nissan        2700000         B004   \n",
       "\n",
       "   Amount_Paid  \n",
       "0       800000  \n",
       "1      2000000  \n",
       "2       600000  \n",
       "3       700000  \n",
       "4      2000000  \n",
       "5      1600000  \n",
       "6      7500000  \n",
       "7      1300000  \n",
       "8       900000  \n",
       "9      1200000  \n",
       "10      700000  \n",
       "11     9500000  \n",
       "12     2700000  "
      ]
     },
     "execution_count": 14,
     "metadata": {},
     "output_type": "execute_result"
    }
   ],
   "source": [
    "columns=[\"Vehicle_Reg_NO\",\"Vehicle_Type\",\"Vehicle_Make\",\"Vehicle_Price\",\"Buyer_Number\",\"Amount_Paid\"]\n",
    "df=pd.DataFrame(from_database,columns=columns)\n",
    "df"
   ]
  },
  {
   "cell_type": "markdown",
   "id": "f5761ff4",
   "metadata": {},
   "source": [
    "## 6  Updating Records"
   ]
  },
  {
   "cell_type": "code",
   "execution_count": 15,
   "id": "f926aac5",
   "metadata": {},
   "outputs": [
    {
     "name": "stdout",
     "output_type": "stream",
     "text": [
      "Connection to database successful!\n",
      "Query Successful\n",
      "Connection to database successful!\n",
      "('KAJ 001', 'Matatu', 'Nissan', 1200000, 'B001', Decimal('800000'))\n",
      "('KAJ 002', 'Bus_62_Seater', 'Mazda', 2400000, 'B002', Decimal('2000000'))\n",
      "('KAJ 003', 'Saloon', 'Toyota', 800000, 'B003', Decimal('600000'))\n",
      "('KAJ 004', 'Pick up', 'Peugeot', 1000000, 'B004', Decimal('700000'))\n",
      "('KAJ 005', 'Lorry', 'Isuzu', 3000000, 'B005', Decimal('2000000'))\n",
      "('KAJ 006', 'Pick up', 'Toyota', 1800000, 'B006', Decimal('1600000'))\n",
      "('KAJ 007', 'Bus_62_Seater', 'Scania', 7500000, 'B002', Decimal('7500000'))\n",
      "('KAJ 008', 'Matatu', 'Toyota', 1300000, 'B003', Decimal('1300000'))\n",
      "('KAJ 009', 'Saloon', 'Nissan', 900000, 'B007', Decimal('900000'))\n",
      "('KAJ 010', 'Pick up', 'Isuzu', 1500000, 'B001', Decimal('1200000'))\n",
      "('KAJ 012', 'Saloon', 'Peugeot', 700000, 'B008', Decimal('700000'))\n",
      "('KAJ 013', 'Bus_62_Seater', 'Isuzu', 10000000, 'B006', Decimal('9500000'))\n",
      "('KAJ 014', 'Matatu', 'Nissan', 2700000, 'B004', Decimal('2700000'))\n"
     ]
    }
   ],
   "source": [
    "update=\"\"\"\n",
    "UPDATE tblvehicle\n",
    "SET Vehicle_Type=\"Bus_62_Seater\"\n",
    "WHERE Vehicle_Type LIKE \"%BU%\";\n",
    "\"\"\"\n",
    "\n",
    "connection = create_database_connection(\"localhost\", \"root\", password, database)\n",
    "execute_query(connection,update)\n",
    "\n",
    "\n",
    "query_one=\"\"\"\n",
    "SELECT * FROM tblvehicle;\n",
    "\"\"\"\n",
    "\n",
    "connection = create_database_connection(\"localhost\", \"root\", password, database)\n",
    "results=read_query(connection,query_one)\n",
    "\n",
    "for result in results:\n",
    "    print(result)"
   ]
  },
  {
   "cell_type": "markdown",
   "id": "8f56c055",
   "metadata": {},
   "source": [
    "## 7. Delete Records"
   ]
  },
  {
   "cell_type": "code",
   "execution_count": 16,
   "id": "77540d85",
   "metadata": {},
   "outputs": [
    {
     "name": "stdout",
     "output_type": "stream",
     "text": [
      "Connection to database successful!\n",
      "Query Successful\n"
     ]
    }
   ],
   "source": [
    "delete_record=\"\"\"\n",
    "DELETE FROM tblvehicle \n",
    "WHERE Vehicle_Reg_NO='KAJ 001';\n",
    "\"\"\"\n",
    "connection=create_database_connection(\"localhost\",\"root\",password,database)\n",
    "execute_query(connection,delete_record)"
   ]
  },
  {
   "cell_type": "code",
   "execution_count": 17,
   "id": "126e38da",
   "metadata": {},
   "outputs": [
    {
     "name": "stdout",
     "output_type": "stream",
     "text": [
      "Connection to database successful!\n",
      "('KAJ 002', 'Bus_62_Seater', 'Mazda', 2400000, 'B002', Decimal('2000000'))\n",
      "('KAJ 003', 'Saloon', 'Toyota', 800000, 'B003', Decimal('600000'))\n",
      "('KAJ 004', 'Pick up', 'Peugeot', 1000000, 'B004', Decimal('700000'))\n",
      "('KAJ 005', 'Lorry', 'Isuzu', 3000000, 'B005', Decimal('2000000'))\n",
      "('KAJ 006', 'Pick up', 'Toyota', 1800000, 'B006', Decimal('1600000'))\n",
      "('KAJ 007', 'Bus_62_Seater', 'Scania', 7500000, 'B002', Decimal('7500000'))\n",
      "('KAJ 008', 'Matatu', 'Toyota', 1300000, 'B003', Decimal('1300000'))\n",
      "('KAJ 009', 'Saloon', 'Nissan', 900000, 'B007', Decimal('900000'))\n",
      "('KAJ 010', 'Pick up', 'Isuzu', 1500000, 'B001', Decimal('1200000'))\n",
      "('KAJ 012', 'Saloon', 'Peugeot', 700000, 'B008', Decimal('700000'))\n",
      "('KAJ 013', 'Bus_62_Seater', 'Isuzu', 10000000, 'B006', Decimal('9500000'))\n",
      "('KAJ 014', 'Matatu', 'Nissan', 2700000, 'B004', Decimal('2700000'))\n"
     ]
    }
   ],
   "source": [
    "query_one=\"\"\"\n",
    "SELECT * FROM tblvehicle;\n",
    "\"\"\"\n",
    "\n",
    "connection = create_database_connection(\"localhost\", \"root\", password, database)\n",
    "results=read_query(connection,query_one)\n",
    "\n",
    "for result in results:\n",
    "    print(result)"
   ]
  },
  {
   "cell_type": "markdown",
   "id": "0f885803",
   "metadata": {},
   "source": [
    "## 8. Restore Deleted Records"
   ]
  },
  {
   "cell_type": "code",
   "execution_count": 18,
   "id": "f5356e0b",
   "metadata": {},
   "outputs": [
    {
     "name": "stdout",
     "output_type": "stream",
     "text": [
      "Connection to database successful!\n",
      "Query Successful\n"
     ]
    }
   ],
   "source": [
    "restore_record=\"\"\"\n",
    "INSERT INTO tblvehicle VALUES\n",
    "('KAJ 001', 'Matatu', 'Nissan', 1200000, 'B001', 800000);\n",
    "\"\"\"\n",
    "connection = create_database_connection(\"localhost\", \"root\", password, database)\n",
    "execute_query(connection,restore_record)"
   ]
  },
  {
   "cell_type": "code",
   "execution_count": 19,
   "id": "c23516fa",
   "metadata": {},
   "outputs": [
    {
     "name": "stdout",
     "output_type": "stream",
     "text": [
      "Connection to database successful!\n",
      "('KAJ 001', 'Matatu', 'Nissan', 1200000, 'B001', Decimal('800000'))\n",
      "('KAJ 002', 'Bus_62_Seater', 'Mazda', 2400000, 'B002', Decimal('2000000'))\n",
      "('KAJ 003', 'Saloon', 'Toyota', 800000, 'B003', Decimal('600000'))\n",
      "('KAJ 004', 'Pick up', 'Peugeot', 1000000, 'B004', Decimal('700000'))\n",
      "('KAJ 005', 'Lorry', 'Isuzu', 3000000, 'B005', Decimal('2000000'))\n",
      "('KAJ 006', 'Pick up', 'Toyota', 1800000, 'B006', Decimal('1600000'))\n",
      "('KAJ 007', 'Bus_62_Seater', 'Scania', 7500000, 'B002', Decimal('7500000'))\n",
      "('KAJ 008', 'Matatu', 'Toyota', 1300000, 'B003', Decimal('1300000'))\n",
      "('KAJ 009', 'Saloon', 'Nissan', 900000, 'B007', Decimal('900000'))\n",
      "('KAJ 010', 'Pick up', 'Isuzu', 1500000, 'B001', Decimal('1200000'))\n",
      "('KAJ 012', 'Saloon', 'Peugeot', 700000, 'B008', Decimal('700000'))\n",
      "('KAJ 013', 'Bus_62_Seater', 'Isuzu', 10000000, 'B006', Decimal('9500000'))\n",
      "('KAJ 014', 'Matatu', 'Nissan', 2700000, 'B004', Decimal('2700000'))\n"
     ]
    }
   ],
   "source": [
    "query_one=\"\"\"\n",
    "SELECT * FROM tblvehicle;\n",
    "\"\"\"\n",
    "\n",
    "connection = create_database_connection(\"localhost\", \"root\", password, database)\n",
    "results=read_query(connection,query_one)\n",
    "\n",
    "for result in results:\n",
    "    print(result)"
   ]
  },
  {
   "cell_type": "markdown",
   "id": "5d7200f9",
   "metadata": {},
   "source": [
    "## 9. Creating Records from Lists\n",
    "\n",
    "This method offers a more secure alternative to the simpler execute() method when the database is open to users, as it helps to prevent SQL Injection attacks. It also offers a wide range of use cases, such as logging user activity on a social media app or storing user input into a wiki."
   ]
  },
  {
   "cell_type": "markdown",
   "id": "a8063763",
   "metadata": {},
   "source": [
    "### 9.1 Function - executemany()"
   ]
  },
  {
   "cell_type": "code",
   "execution_count": 20,
   "id": "bd74e5d9",
   "metadata": {},
   "outputs": [],
   "source": [
    "def execute_list_queries(connection,sql,val):\n",
    "    cursor=connection.cursor()\n",
    "    try:\n",
    "        cursor.executemany(sql,val)\n",
    "        connection.commit()\n",
    "        print(\"Query Successful\")\n",
    "    except Error as err:\n",
    "        print(f\"Error: '{err}'\")"
   ]
  },
  {
   "cell_type": "code",
   "execution_count": 21,
   "id": "1c355b82",
   "metadata": {},
   "outputs": [
    {
     "name": "stdout",
     "output_type": "stream",
     "text": [
      "Connection to database successful!\n",
      "Query Successful\n"
     ]
    }
   ],
   "source": [
    "sql=\"\"\"\n",
    "        INSERT INTO tblvehicle VALUES\n",
    "        (%s,%s,%s,%s,%s,%s)\n",
    "\"\"\"\n",
    "\n",
    "val=[\n",
    "                    ('KAJ 015', None, 'Peugeot', 7000000, 'B002', 7000000),\n",
    "                    ('KAJ 016', None, 'Isuzu', 100000000, 'B003', 95000000),\n",
    "                    ('KAJ 017', None, 'Nissan', 27000000, 'B004', 27000000)\n",
    "]\n",
    "\n",
    "connection = create_database_connection(\"localhost\", \"root\", password, database)\n",
    "execute_list_queries(connection,sql,val)"
   ]
  },
  {
   "cell_type": "code",
   "execution_count": 22,
   "id": "366e6c57",
   "metadata": {},
   "outputs": [
    {
     "name": "stdout",
     "output_type": "stream",
     "text": [
      "Connection to database successful!\n",
      "('KAJ 001', 'Matatu', 'Nissan', 1200000, 'B001', Decimal('800000'))\n",
      "('KAJ 002', 'Bus_62_Seater', 'Mazda', 2400000, 'B002', Decimal('2000000'))\n",
      "('KAJ 003', 'Saloon', 'Toyota', 800000, 'B003', Decimal('600000'))\n",
      "('KAJ 004', 'Pick up', 'Peugeot', 1000000, 'B004', Decimal('700000'))\n",
      "('KAJ 005', 'Lorry', 'Isuzu', 3000000, 'B005', Decimal('2000000'))\n",
      "('KAJ 006', 'Pick up', 'Toyota', 1800000, 'B006', Decimal('1600000'))\n",
      "('KAJ 007', 'Bus_62_Seater', 'Scania', 7500000, 'B002', Decimal('7500000'))\n",
      "('KAJ 008', 'Matatu', 'Toyota', 1300000, 'B003', Decimal('1300000'))\n",
      "('KAJ 009', 'Saloon', 'Nissan', 900000, 'B007', Decimal('900000'))\n",
      "('KAJ 010', 'Pick up', 'Isuzu', 1500000, 'B001', Decimal('1200000'))\n",
      "('KAJ 012', 'Saloon', 'Peugeot', 700000, 'B008', Decimal('700000'))\n",
      "('KAJ 013', 'Bus_62_Seater', 'Isuzu', 10000000, 'B006', Decimal('9500000'))\n",
      "('KAJ 014', 'Matatu', 'Nissan', 2700000, 'B004', Decimal('2700000'))\n",
      "('KAJ 015', None, 'Peugeot', 7000000, 'B002', Decimal('7000000'))\n",
      "('KAJ 016', None, 'Isuzu', 100000000, 'B003', Decimal('95000000'))\n",
      "('KAJ 017', None, 'Nissan', 27000000, 'B004', Decimal('27000000'))\n"
     ]
    }
   ],
   "source": [
    "query_one=\"\"\"\n",
    "SELECT * FROM tblvehicle;\n",
    "\"\"\"\n",
    "\n",
    "connection = create_database_connection(\"localhost\", \"root\", password, database)\n",
    "results=read_query(connection,query_one)\n",
    "\n",
    "for result in results:\n",
    "    print(result)"
   ]
  },
  {
   "cell_type": "markdown",
   "id": "2d633995",
   "metadata": {},
   "source": [
    "## 10.  Delete Columns"
   ]
  },
  {
   "cell_type": "code",
   "execution_count": 23,
   "id": "4e723291",
   "metadata": {},
   "outputs": [
    {
     "name": "stdout",
     "output_type": "stream",
     "text": [
      "Connection to database successful!\n",
      "Query Successful\n"
     ]
    }
   ],
   "source": [
    "drop_columns =\"ALTER TABLE tblvehicle DROP COLUMN Vehicle_Type\"\n",
    "connection = create_database_connection(\"localhost\", \"root\", password, database)\n",
    "execute_query(connection, drop_columns)"
   ]
  },
  {
   "cell_type": "code",
   "execution_count": 24,
   "id": "61ed4770",
   "metadata": {},
   "outputs": [
    {
     "name": "stdout",
     "output_type": "stream",
     "text": [
      "Connection to database successful!\n",
      "('KAJ 001', 'Nissan', 1200000, 'B001', Decimal('800000'))\n",
      "('KAJ 002', 'Mazda', 2400000, 'B002', Decimal('2000000'))\n",
      "('KAJ 003', 'Toyota', 800000, 'B003', Decimal('600000'))\n",
      "('KAJ 004', 'Peugeot', 1000000, 'B004', Decimal('700000'))\n",
      "('KAJ 005', 'Isuzu', 3000000, 'B005', Decimal('2000000'))\n",
      "('KAJ 006', 'Toyota', 1800000, 'B006', Decimal('1600000'))\n",
      "('KAJ 007', 'Scania', 7500000, 'B002', Decimal('7500000'))\n",
      "('KAJ 008', 'Toyota', 1300000, 'B003', Decimal('1300000'))\n",
      "('KAJ 009', 'Nissan', 900000, 'B007', Decimal('900000'))\n",
      "('KAJ 010', 'Isuzu', 1500000, 'B001', Decimal('1200000'))\n",
      "('KAJ 012', 'Peugeot', 700000, 'B008', Decimal('700000'))\n",
      "('KAJ 013', 'Isuzu', 10000000, 'B006', Decimal('9500000'))\n",
      "('KAJ 014', 'Nissan', 2700000, 'B004', Decimal('2700000'))\n",
      "('KAJ 015', 'Peugeot', 7000000, 'B002', Decimal('7000000'))\n",
      "('KAJ 016', 'Isuzu', 100000000, 'B003', Decimal('95000000'))\n",
      "('KAJ 017', 'Nissan', 27000000, 'B004', Decimal('27000000'))\n"
     ]
    }
   ],
   "source": [
    "query_one= \"\"\"\n",
    "                SELECT * FROM tblvehicle;\n",
    "\"\"\"\n",
    "\n",
    "connection = create_database_connection(\"localhost\", \"root\", password, database)\n",
    "results=read_query(connection,query_one)\n",
    "\n",
    "for result in results:\n",
    "    print(result)"
   ]
  },
  {
   "cell_type": "markdown",
   "id": "d47fd379",
   "metadata": {},
   "source": [
    "## 10.  Delete Table"
   ]
  },
  {
   "cell_type": "code",
   "execution_count": 25,
   "id": "02f27e0e",
   "metadata": {},
   "outputs": [
    {
     "name": "stdout",
     "output_type": "stream",
     "text": [
      "Connection to database successful!\n",
      "Query Successful\n"
     ]
    }
   ],
   "source": [
    "drop_vehicles = \"DROP TABLE tblvehicle;\"\n",
    "connection = create_database_connection(\"localhost\", \"root\", password, database)\n",
    "execute_query(connection, drop_vehicles)"
   ]
  },
  {
   "cell_type": "code",
   "execution_count": 26,
   "id": "5e614593",
   "metadata": {},
   "outputs": [
    {
     "name": "stdout",
     "output_type": "stream",
     "text": [
      "Connection to database successful!\n",
      "Error:'1146 (42S02): Table 'cmc.tblvehicle' doesn't exist'\n"
     ]
    }
   ],
   "source": [
    "query_one=\"\"\"\n",
    "SELECT * FROM tblvehicle;\n",
    "\"\"\"\n",
    "\n",
    "connection = create_database_connection(\"localhost\", \"root\", password, database)\n",
    "results=read_query(connection,query_one)\n",
    "\n",
    "if results:\n",
    "    for result in results:\n",
    "        print(result)"
   ]
  },
  {
   "cell_type": "markdown",
   "id": "675b31a6",
   "metadata": {},
   "source": [
    "## 11.  Delete Whole Database"
   ]
  },
  {
   "cell_type": "code",
   "execution_count": 27,
   "id": "6dd47511",
   "metadata": {},
   "outputs": [
    {
     "name": "stdout",
     "output_type": "stream",
     "text": [
      "Connection to database successful!\n",
      "Query Successful\n"
     ]
    }
   ],
   "source": [
    "drop_database = \"DROP DATABASE CMC;\"\n",
    "connection = create_database_connection(\"localhost\", \"root\", password, database)\n",
    "execute_query(connection, drop_database)"
   ]
  },
  {
   "cell_type": "code",
   "execution_count": 28,
   "id": "9c481fd6",
   "metadata": {},
   "outputs": [
    {
     "name": "stdout",
     "output_type": "stream",
     "text": [
      "Error: '1049 (42000): Unknown database 'cmc''\n"
     ]
    }
   ],
   "source": [
    "pop_vehicles=\"\"\"\n",
    "                INSERT INTO tblvehicle \n",
    "                (Vehicle_Reg_NO, Vehicle_Type, Vehicle_Make, Vehicle_Price, Buyer_Number, Amount_Paid) VALUES \n",
    "                ('KAJ 001', 'Matatu', 'Nissan', 1200000, 'B001', 800000),\n",
    "                ('KAJ 002', 'Bus', 'Mazda', 2400000, 'B002', 2000000),\n",
    "                ('KAJ 014', 'Matatu', 'Nissan', 2700000, 'B004', 2700000);\n",
    "\n",
    "\"\"\"\n",
    "\n",
    "connection = create_database_connection(\"localhost\", \"root\", password, database)\n",
    "if connection:\n",
    "    execute_query(connection, pop_vehicles)"
   ]
  },
  {
   "cell_type": "code",
   "execution_count": 29,
   "id": "5df9cb2c",
   "metadata": {},
   "outputs": [],
   "source": [
    "# To download, Install nbconvert and also pandoc\n",
    "# Then in anaconda prompt run\n",
    "\n",
    "    # D:\n",
    "    # cd MDA\\MISM 5405 DATA ANALYTICS AND KNOWLEDGE ENGINEERING\\Assignment\n",
    "    # jupyter nbconvert --to html CRUD_OPERATIONS_WITH_PYTHON.ipynb \n",
    "      # convert the html to pdf-- https://html2pdf.com/\n",
    "        \n",
    "    # jupyter nbconvert --to pdf CRUD_OPERATIONS_WITH_PYTHON.ipynb "
   ]
  }
 ],
 "metadata": {
  "kernelspec": {
   "display_name": "Python 3 (ipykernel)",
   "language": "python",
   "name": "python3"
  },
  "language_info": {
   "codemirror_mode": {
    "name": "ipython",
    "version": 3
   },
   "file_extension": ".py",
   "mimetype": "text/x-python",
   "name": "python",
   "nbconvert_exporter": "python",
   "pygments_lexer": "ipython3",
   "version": "3.9.13"
  }
 },
 "nbformat": 4,
 "nbformat_minor": 5
}
